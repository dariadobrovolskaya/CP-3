{
 "cells": [
  {
   "cell_type": "markdown",
   "metadata": {},
   "source": [
    "# СР3\n",
    "Напишите код, использующий библиотеку **Ludwig**, для решения задачи из датасета.\n",
    "\n",
    "\n",
    "https://www.kaggle.com/shivamb/real-or-fake-fake-jobposting-prediction"
   ]
  },
  {
   "cell_type": "code",
   "execution_count": 1,
   "metadata": {
    "scrolled": false
   },
   "outputs": [
    {
     "name": "stdout",
     "output_type": "stream",
     "text": [
      "Requirement already satisfied: ludwig in c:\\users\\user\\anaconda3\\lib\\site-packages (0.2.2.7)\n",
      "Requirement already satisfied: pandas>=0.19 in c:\\users\\user\\anaconda3\\lib\\site-packages (from ludwig) (0.25.1)\n",
      "Requirement already satisfied: PyYAML>=3.12 in c:\\users\\user\\anaconda3\\lib\\site-packages (from ludwig) (5.1.2)\n",
      "Requirement already satisfied: Cython>=0.25 in c:\\users\\user\\anaconda3\\lib\\site-packages (from ludwig) (0.29.13)\n",
      "Requirement already satisfied: tabulate>=0.7 in c:\\users\\user\\anaconda3\\lib\\site-packages (from ludwig) (0.8.7)\n",
      "Requirement already satisfied: h5py>=2.6 in c:\\users\\user\\anaconda3\\lib\\site-packages (from ludwig) (2.9.0)\n",
      "Requirement already satisfied: scikit-learn in c:\\users\\user\\anaconda3\\lib\\site-packages (from ludwig) (0.21.3)\n",
      "Requirement already satisfied: scipy>=0.18 in c:\\users\\user\\anaconda3\\lib\\site-packages (from ludwig) (1.3.1)\n",
      "Requirement already satisfied: tqdm in c:\\users\\user\\anaconda3\\lib\\site-packages (from ludwig) (4.36.1)\n",
      "Requirement already satisfied: tensorflow==1.15.3 in c:\\users\\user\\anaconda3\\lib\\site-packages (from ludwig) (1.15.3)\n",
      "Requirement already satisfied: absl-py in c:\\users\\user\\anaconda3\\lib\\site-packages (from ludwig) (0.9.0)\n",
      "Requirement already satisfied: numpy>=1.15 in c:\\users\\user\\anaconda3\\lib\\site-packages (from ludwig) (1.16.5)\n",
      "Requirement already satisfied: python-dateutil>=2.6.1 in c:\\users\\user\\anaconda3\\lib\\site-packages (from pandas>=0.19->ludwig) (2.8.0)\n",
      "Requirement already satisfied: pytz>=2017.2 in c:\\users\\user\\anaconda3\\lib\\site-packages (from pandas>=0.19->ludwig) (2019.3)\n",
      "Requirement already satisfied: six in c:\\users\\user\\anaconda3\\lib\\site-packages (from h5py>=2.6->ludwig) (1.12.0)\n",
      "Requirement already satisfied: joblib>=0.11 in c:\\users\\user\\anaconda3\\lib\\site-packages (from scikit-learn->ludwig) (0.13.2)\n",
      "Requirement already satisfied: keras-applications>=1.0.8 in c:\\users\\user\\anaconda3\\lib\\site-packages (from tensorflow==1.15.3->ludwig) (1.0.8)\n",
      "Requirement already satisfied: protobuf>=3.6.1 in c:\\users\\user\\anaconda3\\lib\\site-packages (from tensorflow==1.15.3->ludwig) (3.12.2)\n",
      "Requirement already satisfied: gast==0.2.2 in c:\\users\\user\\anaconda3\\lib\\site-packages (from tensorflow==1.15.3->ludwig) (0.2.2)\n",
      "Requirement already satisfied: astor>=0.6.0 in c:\\users\\user\\anaconda3\\lib\\site-packages (from tensorflow==1.15.3->ludwig) (0.8.1)\n",
      "Requirement already satisfied: keras-preprocessing>=1.0.5 in c:\\users\\user\\anaconda3\\lib\\site-packages (from tensorflow==1.15.3->ludwig) (1.1.2)\n",
      "Requirement already satisfied: termcolor>=1.1.0 in c:\\users\\user\\anaconda3\\lib\\site-packages (from tensorflow==1.15.3->ludwig) (1.1.0)\n",
      "Requirement already satisfied: google-pasta>=0.1.6 in c:\\users\\user\\anaconda3\\lib\\site-packages (from tensorflow==1.15.3->ludwig) (0.2.0)\n",
      "Requirement already satisfied: wrapt>=1.11.1 in c:\\users\\user\\anaconda3\\lib\\site-packages (from tensorflow==1.15.3->ludwig) (1.11.2)\n",
      "Requirement already satisfied: tensorflow-estimator==1.15.1 in c:\\users\\user\\anaconda3\\lib\\site-packages (from tensorflow==1.15.3->ludwig) (1.15.1)\n",
      "Requirement already satisfied: opt-einsum>=2.3.2 in c:\\users\\user\\anaconda3\\lib\\site-packages (from tensorflow==1.15.3->ludwig) (3.2.1)\n",
      "Requirement already satisfied: wheel>=0.26; python_version >= \"3\" in c:\\users\\user\\anaconda3\\lib\\site-packages (from tensorflow==1.15.3->ludwig) (0.34.2)\n",
      "Requirement already satisfied: tensorboard<1.16.0,>=1.15.0 in c:\\users\\user\\anaconda3\\lib\\site-packages (from tensorflow==1.15.3->ludwig) (1.15.0)\n",
      "Requirement already satisfied: grpcio>=1.8.6 in c:\\users\\user\\anaconda3\\lib\\site-packages (from tensorflow==1.15.3->ludwig) (1.29.0)\n",
      "Requirement already satisfied: setuptools in c:\\users\\user\\anaconda3\\lib\\site-packages (from protobuf>=3.6.1->tensorflow==1.15.3->ludwig) (46.1.3)\n",
      "Requirement already satisfied: markdown>=2.6.8 in c:\\users\\user\\anaconda3\\lib\\site-packages (from tensorboard<1.16.0,>=1.15.0->tensorflow==1.15.3->ludwig) (3.2.2)\n",
      "Requirement already satisfied: werkzeug>=0.11.15 in c:\\users\\user\\anaconda3\\lib\\site-packages (from tensorboard<1.16.0,>=1.15.0->tensorflow==1.15.3->ludwig) (0.16.0)\n",
      "Requirement already satisfied: importlib-metadata; python_version < \"3.8\" in c:\\users\\user\\anaconda3\\lib\\site-packages (from markdown>=2.6.8->tensorboard<1.16.0,>=1.15.0->tensorflow==1.15.3->ludwig) (0.23)\n",
      "Requirement already satisfied: zipp>=0.5 in c:\\users\\user\\anaconda3\\lib\\site-packages (from importlib-metadata; python_version < \"3.8\"->markdown>=2.6.8->tensorboard<1.16.0,>=1.15.0->tensorflow==1.15.3->ludwig) (0.6.0)\n",
      "Requirement already satisfied: more-itertools in c:\\users\\user\\anaconda3\\lib\\site-packages (from zipp>=0.5->importlib-metadata; python_version < \"3.8\"->markdown>=2.6.8->tensorboard<1.16.0,>=1.15.0->tensorflow==1.15.3->ludwig) (7.2.0)\n"
     ]
    },
    {
     "name": "stderr",
     "output_type": "stream",
     "text": [
      "WARNING: You are using pip version 20.1; however, version 20.1.1 is available.\n",
      "You should consider upgrading via the 'c:\\users\\user\\anaconda3\\python.exe -m pip install --upgrade pip' command.\n"
     ]
    },
    {
     "name": "stdout",
     "output_type": "stream",
     "text": [
      "WARNING:tensorflow:\n",
      "The TensorFlow contrib module will not be included in TensorFlow 2.0.\n",
      "For more information, please see:\n",
      "  * https://github.com/tensorflow/community/blob/master/rfcs/20180907-contrib-sunset.md\n",
      "  * https://github.com/tensorflow/addons\n",
      "  * https://github.com/tensorflow/io (for I/O related ops)\n",
      "If you depend on functionality not listed there, please file an issue.\n",
      "\n"
     ]
    }
   ],
   "source": [
    "!pip install ludwig\n",
    "from ludwig.api import *\n",
    "import pandas as pd\n",
    "from ludwig.visualize import *"
   ]
  },
  {
   "cell_type": "markdown",
   "metadata": {
    "colab_type": "text",
    "id": "Ve2Z3HxGX_I0"
   },
   "source": [
    "Определяем, что и по какой информации будем предсказывать (успешность стартапа по его целевой сумме, категории, валюте и собранным деньгам)"
   ]
  },
  {
   "cell_type": "code",
   "execution_count": 2,
   "metadata": {
    "colab": {},
    "colab_type": "code",
    "id": "xErvZgLrNglu"
   },
   "outputs": [],
   "source": [
    "model_definition = {\n",
    "    \"input_features\": [\n",
    "                       {\"name\": \"title\", \"type\": \"text\"},\n",
    "                       {\"name\": \"location\", \"type\": \"text\"},\n",
    "                       {\"name\": \"department\", \"type\": \"text\"},\n",
    "                       {\"name\": \"salary_range\", \"type\": \"text\"},\n",
    "                       {\"name\": \"company_profile\", \"type\": \"text\"},\n",
    "                       {\"name\": \"description\", \"type\": \"text\"},\n",
    "                       {\"name\": \"requirements\", \"type\": \"text\"},\n",
    "                       {\"name\": \"benefits\", \"type\": \"text\"},\n",
    "                       {\"name\": \"telecommuting\", \"type\": \"category\"},\n",
    "                       {\"name\": \"has_company_logo\", \"type\": \"category\"},\n",
    "                       {\"name\": \"has_questions\", \"type\": \"category\"},\n",
    "                       {\"name\": \"employment_type\", \"type\": \"text\"},\n",
    "                       {\"name\": \"required_experience\", \"type\": \"text\"},\n",
    "                       {\"name\": \"required_education\", \"type\": \"text\"},\n",
    "                       {\"name\": \"industry\", \"type\": \"text\"},\n",
    "                       {\"name\": \"function\", \"type\": \"text\"},\n",
    "    ],\n",
    "    \"output_features\": [\n",
    "                       {\"name\": \"fraudulent\", \"type\": \"category\"}\n",
    "    ]\n",
    "}"
   ]
  },
  {
   "cell_type": "code",
   "execution_count": 3,
   "metadata": {
    "colab": {},
    "colab_type": "code",
    "id": "V8Tr8B6aNglx"
   },
   "outputs": [],
   "source": [
    "model = LudwigModel(model_definition)"
   ]
  },
  {
   "cell_type": "markdown",
   "metadata": {
    "colab_type": "text",
    "id": "WntE_3u4Z0qi"
   },
   "source": [
    "Для начала загрузим данные"
   ]
  },
  {
   "cell_type": "code",
   "execution_count": 4,
   "metadata": {
    "colab": {},
    "colab_type": "code",
    "id": "covkpOscNgl0",
    "scrolled": true
   },
   "outputs": [],
   "source": [
    "data1 = pd.read_csv('fake_job_postings.csv')\n",
    "data2 = pd.DataFrame(data1)\n"
   ]
  },
  {
   "cell_type": "markdown",
   "metadata": {
    "colab_type": "text",
    "id": "B8waW71kaYgW"
   },
   "source": [
    "Теперь натренируем модель"
   ]
  },
  {
   "cell_type": "code",
   "execution_count": null,
   "metadata": {
    "colab": {},
    "colab_type": "code",
    "id": "bpCMk-vXNgl3"
   },
   "outputs": [],
   "source": [
    "train = model.train(data1)\n",
    "predictions = model.predict(data2)"
   ]
  },
  {
   "cell_type": "markdown",
   "metadata": {
    "colab_type": "text",
    "id": "bWnQH3-XZjzD"
   },
   "source": [
    "Построим графики по данным трейна и предикта, чтобы понять насколько хорошо все предсказывается"
   ]
  },
  {
   "cell_type": "code",
   "execution_count": null,
   "metadata": {
    "colab": {
     "base_uri": "https://localhost:8080/",
     "height": 857
    },
    "colab_type": "code",
    "id": "aphqTCjrNgl6",
    "outputId": "c4e27dbe-cbab-4ab1-9e09-d8dd5af8af6e"
   },
   "outputs": [],
   "source": [
    "learning_curves(train, 'state')"
   ]
  },
  {
   "cell_type": "markdown",
   "metadata": {
    "colab": {
     "base_uri": "https://localhost:8080/",
     "height": 375
    },
    "colab_type": "code",
    "id": "8XvqWdN8Ngl8",
    "outputId": "73c35378-6767-42fd-c6b1-df83e1bb99f6"
   },
   "source": [
    "**Кажется всё, спасибо за внимание(:**"
   ]
  }
 ],
 "metadata": {
  "colab": {
   "name": "Ludwig_Narek.ipynb",
   "provenance": []
  },
  "kernelspec": {
   "display_name": "Python 3",
   "language": "python",
   "name": "python3"
  },
  "language_info": {
   "codemirror_mode": {
    "name": "ipython",
    "version": 3
   },
   "file_extension": ".py",
   "mimetype": "text/x-python",
   "name": "python",
   "nbconvert_exporter": "python",
   "pygments_lexer": "ipython3",
   "version": "3.7.4"
  }
 },
 "nbformat": 4,
 "nbformat_minor": 1
}
